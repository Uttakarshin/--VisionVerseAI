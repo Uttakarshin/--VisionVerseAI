{
 "cells": [
  {
   "cell_type": "code",
   "execution_count": null,
   "id": "877beb8d",
   "metadata": {},
   "outputs": [],
   "source": [
    "import vertexai\n",
    "from vertexai.generative_models import GenerativeModel, Part\n",
    "\n",
    "\n",
    "def analyze_bouquet_image(project_id: str, location: str) -> str:\n",
    "    # Initialize Vertex AI\n",
    "    vertexai.init(project=project_id, location=location)\n",
    "    # Load the model\n",
    "    multimodal_model = GenerativeModel(\"gemini-2.0-flash-001\")\n",
    "    # Query the model\n",
    "    response = multimodal_model.generate_content(\n",
    "        [\n",
    "            # Add an example image\n",
    "            Part.from_uri(\n",
    "                \"gs://generativeai-downloads/images/scones.jpg\", mime_type=\"image/jpeg\"\n",
    "            ),\n",
    "            # Add an example query\n",
    "            \"what is shown in this image?\",\n",
    "        ]\n",
    "    )\n",
    "\n",
    "    return response.text\n",
    "\n",
    "project_id = \"qwiklabs-gcp-04-9e84bf9cfeaf\"\n",
    "location = \"us-central1\"\n",
    "\n",
    "response = analyze_bouquet_image(project_id, location)\n",
    "print(response)\n",
    "\n"
   ]
  }
 ],
 "metadata": {
  "language_info": {
   "name": "python"
  }
 },
 "nbformat": 4,
 "nbformat_minor": 5
}
