{
 "cells": [
  {
   "cell_type": "code",
   "execution_count": null,
   "id": "7faa21c5",
   "metadata": {},
   "outputs": [],
   "source": [
    "import argparse\n",
    "\n",
    "import vertexai\n",
    "from vertexai.preview.vision_models import ImageGenerationModel\n",
    "\n",
    "def generate_image(\n",
    "    project_id: str, location: str, output_file: str, prompt: str\n",
    ") -> vertexai.preview.vision_models.ImageGenerationResponse:\n",
    "    \"\"\"Generate an image using a text prompt.\n",
    "    Args:\n",
    "      project_id: Google Cloud project ID, used to initialize Vertex AI.\n",
    "      location: Google Cloud region, used to initialize Vertex AI.\n",
    "      output_file: Local path to the output image file.\n",
    "      prompt: The text prompt describing what you want to see.\"\"\"\n",
    "\n",
    "    vertexai.init(project=project_id, location=location)\n",
    "\n",
    "    model = ImageGenerationModel.from_pretrained(\"imagen-3.0-generate-002\")\n",
    "\n",
    "    images = model.generate_images(\n",
    "        prompt=prompt,\n",
    "        # Optional parameters\n",
    "        number_of_images=1,\n",
    "        seed=1,\n",
    "        add_watermark=False,\n",
    "    )\n",
    "\n",
    "    images[0].save(location=output_file)\n",
    "\n",
    "    return images\n",
    "\n",
    "generate_image(\n",
    "    project_id='qwiklabs-gcp-04-9e84bf9cfeaf',\n",
    "    location='us-central1',\n",
    "    output_file='image.jpeg',\n",
    "    prompt='Create an image containing a bouquet of 2 sunflowers and 3 roses',\n",
    "    )\n"
   ]
  }
 ],
 "metadata": {
  "language_info": {
   "name": "python"
  }
 },
 "nbformat": 4,
 "nbformat_minor": 5
}
